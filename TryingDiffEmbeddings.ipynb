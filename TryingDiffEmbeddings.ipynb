{
 "cells": [
  {
   "cell_type": "code",
   "execution_count": 1,
   "id": "7d918a16-5489-476b-957e-14cf2157445a",
   "metadata": {},
   "outputs": [],
   "source": [
    "import cv2"
   ]
  },
  {
   "cell_type": "code",
   "execution_count": 3,
   "id": "e7c6ee73-4c98-42f5-8a86-3ec9d232c397",
   "metadata": {},
   "outputs": [
    {
     "name": "stderr",
     "output_type": "stream",
     "text": [
      "None of PyTorch, TensorFlow >= 2.0, or Flax have been found. Models won't be available and only tokenizers, configuration and file/data utilities can be used.\n",
      "None of PyTorch, TensorFlow >= 2.0, or Flax have been found. Models won't be available and only tokenizers, configuration and file/data utilities can be used.\n"
     ]
    },
    {
     "ename": "ImportError",
     "evalue": "cannot import name 'cached_download' from 'huggingface_hub' (C:\\Users\\Asus\\anaconda3\\Lib\\site-packages\\huggingface_hub\\__init__.py)",
     "output_type": "error",
     "traceback": [
      "\u001b[1;31m---------------------------------------------------------------------------\u001b[0m",
      "\u001b[1;31mImportError\u001b[0m                               Traceback (most recent call last)",
      "Cell \u001b[1;32mIn[3], line 1\u001b[0m\n\u001b[1;32m----> 1\u001b[0m \u001b[38;5;28;01mimport\u001b[39;00m \u001b[38;5;21;01mimgbeddings\u001b[39;00m\n",
      "File \u001b[1;32m~\\anaconda3\\Lib\\site-packages\\imgbeddings\\__init__.py:1\u001b[0m\n\u001b[1;32m----> 1\u001b[0m \u001b[38;5;28;01mfrom\u001b[39;00m \u001b[38;5;21;01m.\u001b[39;00m\u001b[38;5;21;01mimgbeddings\u001b[39;00m \u001b[38;5;28;01mimport\u001b[39;00m imgbeddings\n",
      "File \u001b[1;32m~\\anaconda3\\Lib\\site-packages\\imgbeddings\\imgbeddings.py:7\u001b[0m\n\u001b[0;32m      4\u001b[0m \u001b[38;5;28;01mimport\u001b[39;00m \u001b[38;5;21;01mitertools\u001b[39;00m\n\u001b[0;32m      6\u001b[0m \u001b[38;5;28;01mfrom\u001b[39;00m \u001b[38;5;21;01mtransformers\u001b[39;00m \u001b[38;5;28;01mimport\u001b[39;00m CLIPProcessor\n\u001b[1;32m----> 7\u001b[0m \u001b[38;5;28;01mfrom\u001b[39;00m \u001b[38;5;21;01mhuggingface_hub\u001b[39;00m \u001b[38;5;28;01mimport\u001b[39;00m hf_hub_url, cached_download\n\u001b[0;32m      8\u001b[0m \u001b[38;5;28;01mfrom\u001b[39;00m \u001b[38;5;21;01monnxruntime\u001b[39;00m \u001b[38;5;28;01mimport\u001b[39;00m InferenceSession\n\u001b[0;32m      9\u001b[0m \u001b[38;5;28;01mimport\u001b[39;00m \u001b[38;5;21;01mnumpy\u001b[39;00m \u001b[38;5;28;01mas\u001b[39;00m \u001b[38;5;21;01mnp\u001b[39;00m\n",
      "\u001b[1;31mImportError\u001b[0m: cannot import name 'cached_download' from 'huggingface_hub' (C:\\Users\\Asus\\anaconda3\\Lib\\site-packages\\huggingface_hub\\__init__.py)"
     ]
    }
   ],
   "source": [
    "import imgbeddings"
   ]
  },
  {
   "cell_type": "code",
   "execution_count": 1,
   "id": "9710584d-dda7-416b-9a43-247a11d90bfe",
   "metadata": {},
   "outputs": [
    {
     "ename": "ImportError",
     "evalue": "cannot import name 'OfflineModeIsEnabled' from 'huggingface_hub.utils' (C:\\Users\\Asus\\anaconda3\\Lib\\site-packages\\huggingface_hub\\utils\\__init__.py)",
     "output_type": "error",
     "traceback": [
      "\u001b[1;31m---------------------------------------------------------------------------\u001b[0m",
      "\u001b[1;31mImportError\u001b[0m                               Traceback (most recent call last)",
      "Cell \u001b[1;32mIn[1], line 1\u001b[0m\n\u001b[1;32m----> 1\u001b[0m \u001b[38;5;28;01mimport\u001b[39;00m \u001b[38;5;21;01mimgbeddings\u001b[39;00m\n\u001b[0;32m      2\u001b[0m \u001b[38;5;28mprint\u001b[39m(imgbeddings\u001b[38;5;241m.\u001b[39m__version__)\n",
      "File \u001b[1;32m~\\anaconda3\\Lib\\site-packages\\imgbeddings\\__init__.py:1\u001b[0m\n\u001b[1;32m----> 1\u001b[0m \u001b[38;5;28;01mfrom\u001b[39;00m \u001b[38;5;21;01m.\u001b[39;00m\u001b[38;5;21;01mimgbeddings\u001b[39;00m \u001b[38;5;28;01mimport\u001b[39;00m imgbeddings\n",
      "File \u001b[1;32m~\\anaconda3\\Lib\\site-packages\\imgbeddings\\imgbeddings.py:6\u001b[0m\n\u001b[0;32m      3\u001b[0m \u001b[38;5;28;01mimport\u001b[39;00m \u001b[38;5;21;01mrandom\u001b[39;00m\n\u001b[0;32m      4\u001b[0m \u001b[38;5;28;01mimport\u001b[39;00m \u001b[38;5;21;01mitertools\u001b[39;00m\n\u001b[1;32m----> 6\u001b[0m \u001b[38;5;28;01mfrom\u001b[39;00m \u001b[38;5;21;01mtransformers\u001b[39;00m \u001b[38;5;28;01mimport\u001b[39;00m CLIPProcessor\n\u001b[0;32m      7\u001b[0m \u001b[38;5;28;01mfrom\u001b[39;00m \u001b[38;5;21;01mhuggingface_hub\u001b[39;00m \u001b[38;5;28;01mimport\u001b[39;00m hf_hub_url, cached_download\n\u001b[0;32m      8\u001b[0m \u001b[38;5;28;01mfrom\u001b[39;00m \u001b[38;5;21;01monnxruntime\u001b[39;00m \u001b[38;5;28;01mimport\u001b[39;00m InferenceSession\n",
      "File \u001b[1;32m~\\anaconda3\\Lib\\site-packages\\transformers\\__init__.py:26\u001b[0m\n\u001b[0;32m     23\u001b[0m \u001b[38;5;28;01mfrom\u001b[39;00m \u001b[38;5;21;01mtyping\u001b[39;00m \u001b[38;5;28;01mimport\u001b[39;00m TYPE_CHECKING\n\u001b[0;32m     25\u001b[0m \u001b[38;5;66;03m# Check the dependencies satisfy the minimal versions required.\u001b[39;00m\n\u001b[1;32m---> 26\u001b[0m \u001b[38;5;28;01mfrom\u001b[39;00m \u001b[38;5;21;01m.\u001b[39;00m \u001b[38;5;28;01mimport\u001b[39;00m dependency_versions_check\n\u001b[0;32m     27\u001b[0m \u001b[38;5;28;01mfrom\u001b[39;00m \u001b[38;5;21;01m.\u001b[39;00m\u001b[38;5;21;01mutils\u001b[39;00m \u001b[38;5;28;01mimport\u001b[39;00m (\n\u001b[0;32m     28\u001b[0m     OptionalDependencyNotAvailable,\n\u001b[0;32m     29\u001b[0m     _LazyModule,\n\u001b[1;32m   (...)\u001b[0m\n\u001b[0;32m     48\u001b[0m     logging,\n\u001b[0;32m     49\u001b[0m )\n\u001b[0;32m     52\u001b[0m logger \u001b[38;5;241m=\u001b[39m logging\u001b[38;5;241m.\u001b[39mget_logger(\u001b[38;5;18m__name__\u001b[39m)  \u001b[38;5;66;03m# pylint: disable=invalid-name\u001b[39;00m\n",
      "File \u001b[1;32m~\\anaconda3\\Lib\\site-packages\\transformers\\dependency_versions_check.py:16\u001b[0m\n\u001b[0;32m      1\u001b[0m \u001b[38;5;66;03m# Copyright 2020 The HuggingFace Team. All rights reserved.\u001b[39;00m\n\u001b[0;32m      2\u001b[0m \u001b[38;5;66;03m#\u001b[39;00m\n\u001b[0;32m      3\u001b[0m \u001b[38;5;66;03m# Licensed under the Apache License, Version 2.0 (the \"License\");\u001b[39;00m\n\u001b[1;32m   (...)\u001b[0m\n\u001b[0;32m     12\u001b[0m \u001b[38;5;66;03m# See the License for the specific language governing permissions and\u001b[39;00m\n\u001b[0;32m     13\u001b[0m \u001b[38;5;66;03m# limitations under the License.\u001b[39;00m\n\u001b[0;32m     15\u001b[0m \u001b[38;5;28;01mfrom\u001b[39;00m \u001b[38;5;21;01m.\u001b[39;00m\u001b[38;5;21;01mdependency_versions_table\u001b[39;00m \u001b[38;5;28;01mimport\u001b[39;00m deps\n\u001b[1;32m---> 16\u001b[0m \u001b[38;5;28;01mfrom\u001b[39;00m \u001b[38;5;21;01m.\u001b[39;00m\u001b[38;5;21;01mutils\u001b[39;00m\u001b[38;5;21;01m.\u001b[39;00m\u001b[38;5;21;01mversions\u001b[39;00m \u001b[38;5;28;01mimport\u001b[39;00m require_version, require_version_core\n\u001b[0;32m     19\u001b[0m \u001b[38;5;66;03m# define which module versions we always want to check at run time\u001b[39;00m\n\u001b[0;32m     20\u001b[0m \u001b[38;5;66;03m# (usually the ones defined in `install_requires` in setup.py)\u001b[39;00m\n\u001b[0;32m     21\u001b[0m \u001b[38;5;66;03m#\u001b[39;00m\n\u001b[0;32m     22\u001b[0m \u001b[38;5;66;03m# order specific notes:\u001b[39;00m\n\u001b[0;32m     23\u001b[0m \u001b[38;5;66;03m# - tqdm must be checked before tokenizers\u001b[39;00m\n\u001b[0;32m     25\u001b[0m pkgs_to_check_at_runtime \u001b[38;5;241m=\u001b[39m [\n\u001b[0;32m     26\u001b[0m     \u001b[38;5;124m\"\u001b[39m\u001b[38;5;124mpython\u001b[39m\u001b[38;5;124m\"\u001b[39m,\n\u001b[0;32m     27\u001b[0m     \u001b[38;5;124m\"\u001b[39m\u001b[38;5;124mtqdm\u001b[39m\u001b[38;5;124m\"\u001b[39m,\n\u001b[1;32m   (...)\u001b[0m\n\u001b[0;32m     37\u001b[0m     \u001b[38;5;124m\"\u001b[39m\u001b[38;5;124mpyyaml\u001b[39m\u001b[38;5;124m\"\u001b[39m,\n\u001b[0;32m     38\u001b[0m ]\n",
      "File \u001b[1;32m~\\anaconda3\\Lib\\site-packages\\transformers\\utils\\__init__.py:74\u001b[0m\n\u001b[0;32m     29\u001b[0m \u001b[38;5;28;01mfrom\u001b[39;00m \u001b[38;5;21;01m.\u001b[39;00m\u001b[38;5;21;01mdoc\u001b[39;00m \u001b[38;5;28;01mimport\u001b[39;00m (\n\u001b[0;32m     30\u001b[0m     add_code_sample_docstrings,\n\u001b[0;32m     31\u001b[0m     add_end_docstrings,\n\u001b[1;32m   (...)\u001b[0m\n\u001b[0;32m     35\u001b[0m     replace_return_docstrings,\n\u001b[0;32m     36\u001b[0m )\n\u001b[0;32m     37\u001b[0m \u001b[38;5;28;01mfrom\u001b[39;00m \u001b[38;5;21;01m.\u001b[39;00m\u001b[38;5;21;01mgeneric\u001b[39;00m \u001b[38;5;28;01mimport\u001b[39;00m (\n\u001b[0;32m     38\u001b[0m     ContextManagers,\n\u001b[0;32m     39\u001b[0m     ExplicitEnum,\n\u001b[1;32m   (...)\u001b[0m\n\u001b[0;32m     72\u001b[0m     working_or_temp_dir,\n\u001b[0;32m     73\u001b[0m )\n\u001b[1;32m---> 74\u001b[0m \u001b[38;5;28;01mfrom\u001b[39;00m \u001b[38;5;21;01m.\u001b[39;00m\u001b[38;5;21;01mhub\u001b[39;00m \u001b[38;5;28;01mimport\u001b[39;00m (\n\u001b[0;32m     75\u001b[0m     CLOUDFRONT_DISTRIB_PREFIX,\n\u001b[0;32m     76\u001b[0m     HF_MODULES_CACHE,\n\u001b[0;32m     77\u001b[0m     HUGGINGFACE_CO_PREFIX,\n\u001b[0;32m     78\u001b[0m     HUGGINGFACE_CO_RESOLVE_ENDPOINT,\n\u001b[0;32m     79\u001b[0m     PYTORCH_PRETRAINED_BERT_CACHE,\n\u001b[0;32m     80\u001b[0m     PYTORCH_TRANSFORMERS_CACHE,\n\u001b[0;32m     81\u001b[0m     S3_BUCKET_PREFIX,\n\u001b[0;32m     82\u001b[0m     TRANSFORMERS_CACHE,\n\u001b[0;32m     83\u001b[0m     TRANSFORMERS_DYNAMIC_MODULE_NAME,\n\u001b[0;32m     84\u001b[0m     EntryNotFoundError,\n\u001b[0;32m     85\u001b[0m     PushInProgress,\n\u001b[0;32m     86\u001b[0m     PushToHubMixin,\n\u001b[0;32m     87\u001b[0m     RepositoryNotFoundError,\n\u001b[0;32m     88\u001b[0m     RevisionNotFoundError,\n\u001b[0;32m     89\u001b[0m     cached_file,\n\u001b[0;32m     90\u001b[0m     default_cache_path,\n\u001b[0;32m     91\u001b[0m     define_sagemaker_information,\n\u001b[0;32m     92\u001b[0m     download_url,\n\u001b[0;32m     93\u001b[0m     extract_commit_hash,\n\u001b[0;32m     94\u001b[0m     get_file_from_repo,\n\u001b[0;32m     95\u001b[0m     has_file,\n\u001b[0;32m     96\u001b[0m     http_user_agent,\n\u001b[0;32m     97\u001b[0m     is_offline_mode,\n\u001b[0;32m     98\u001b[0m     is_remote_url,\n\u001b[0;32m     99\u001b[0m     send_example_telemetry,\n\u001b[0;32m    100\u001b[0m     try_to_load_from_cache,\n\u001b[0;32m    101\u001b[0m )\n\u001b[0;32m    102\u001b[0m \u001b[38;5;28;01mfrom\u001b[39;00m \u001b[38;5;21;01m.\u001b[39;00m\u001b[38;5;21;01mimport_utils\u001b[39;00m \u001b[38;5;28;01mimport\u001b[39;00m (\n\u001b[0;32m    103\u001b[0m     ACCELERATE_MIN_VERSION,\n\u001b[0;32m    104\u001b[0m     ENV_VARS_TRUE_AND_AUTO_VALUES,\n\u001b[1;32m   (...)\u001b[0m\n\u001b[0;32m    243\u001b[0m     torch_only_method,\n\u001b[0;32m    244\u001b[0m )\n\u001b[0;32m    245\u001b[0m \u001b[38;5;28;01mfrom\u001b[39;00m \u001b[38;5;21;01m.\u001b[39;00m\u001b[38;5;21;01mpeft_utils\u001b[39;00m \u001b[38;5;28;01mimport\u001b[39;00m (\n\u001b[0;32m    246\u001b[0m     ADAPTER_CONFIG_NAME,\n\u001b[0;32m    247\u001b[0m     ADAPTER_SAFE_WEIGHTS_NAME,\n\u001b[1;32m   (...)\u001b[0m\n\u001b[0;32m    250\u001b[0m     find_adapter_config_file,\n\u001b[0;32m    251\u001b[0m )\n",
      "File \u001b[1;32m~\\anaconda3\\Lib\\site-packages\\transformers\\utils\\hub.py:46\u001b[0m\n\u001b[0;32m     32\u001b[0m \u001b[38;5;28;01mfrom\u001b[39;00m \u001b[38;5;21;01mhuggingface_hub\u001b[39;00m \u001b[38;5;28;01mimport\u001b[39;00m (\n\u001b[0;32m     33\u001b[0m     _CACHED_NO_EXIST,\n\u001b[0;32m     34\u001b[0m     CommitOperationAdd,\n\u001b[1;32m   (...)\u001b[0m\n\u001b[0;32m     43\u001b[0m     try_to_load_from_cache,\n\u001b[0;32m     44\u001b[0m )\n\u001b[0;32m     45\u001b[0m \u001b[38;5;28;01mfrom\u001b[39;00m \u001b[38;5;21;01mhuggingface_hub\u001b[39;00m\u001b[38;5;21;01m.\u001b[39;00m\u001b[38;5;21;01mfile_download\u001b[39;00m \u001b[38;5;28;01mimport\u001b[39;00m REGEX_COMMIT_HASH, http_get\n\u001b[1;32m---> 46\u001b[0m \u001b[38;5;28;01mfrom\u001b[39;00m \u001b[38;5;21;01mhuggingface_hub\u001b[39;00m\u001b[38;5;21;01m.\u001b[39;00m\u001b[38;5;21;01mutils\u001b[39;00m \u001b[38;5;28;01mimport\u001b[39;00m (\n\u001b[0;32m     47\u001b[0m     EntryNotFoundError,\n\u001b[0;32m     48\u001b[0m     GatedRepoError,\n\u001b[0;32m     49\u001b[0m     HfHubHTTPError,\n\u001b[0;32m     50\u001b[0m     HFValidationError,\n\u001b[0;32m     51\u001b[0m     LocalEntryNotFoundError,\n\u001b[0;32m     52\u001b[0m     OfflineModeIsEnabled,\n\u001b[0;32m     53\u001b[0m     RepositoryNotFoundError,\n\u001b[0;32m     54\u001b[0m     RevisionNotFoundError,\n\u001b[0;32m     55\u001b[0m     build_hf_headers,\n\u001b[0;32m     56\u001b[0m     get_session,\n\u001b[0;32m     57\u001b[0m     hf_raise_for_status,\n\u001b[0;32m     58\u001b[0m     send_telemetry,\n\u001b[0;32m     59\u001b[0m )\n\u001b[0;32m     60\u001b[0m \u001b[38;5;28;01mfrom\u001b[39;00m \u001b[38;5;21;01mrequests\u001b[39;00m\u001b[38;5;21;01m.\u001b[39;00m\u001b[38;5;21;01mexceptions\u001b[39;00m \u001b[38;5;28;01mimport\u001b[39;00m HTTPError\n\u001b[0;32m     62\u001b[0m \u001b[38;5;28;01mfrom\u001b[39;00m \u001b[38;5;21;01m.\u001b[39;00m \u001b[38;5;28;01mimport\u001b[39;00m __version__, logging\n",
      "\u001b[1;31mImportError\u001b[0m: cannot import name 'OfflineModeIsEnabled' from 'huggingface_hub.utils' (C:\\Users\\Asus\\anaconda3\\Lib\\site-packages\\huggingface_hub\\utils\\__init__.py)"
     ]
    }
   ],
   "source": [
    "import imgbeddings\n",
    "print(imgbeddings.__version__)\n"
   ]
  },
  {
   "cell_type": "code",
   "execution_count": 1,
   "id": "8f92a66b-0bb9-4e08-8128-9c3e8209323c",
   "metadata": {},
   "outputs": [
    {
     "name": "stdout",
     "output_type": "stream",
     "text": [
      "2.6.0+cpu\n"
     ]
    }
   ],
   "source": [
    "import torch\n",
    "print(torch.__version__)\n"
   ]
  },
  {
   "cell_type": "code",
   "execution_count": 9,
   "id": "ac246652-b516-4280-9cdb-afbda165df0b",
   "metadata": {},
   "outputs": [],
   "source": [
    "import dlib\n",
    "import cv2\n",
    "import numpy as np\n",
    "\n",
    "detector = dlib.get_frontal_face_detector()\n",
    "sp = dlib.shape_predictor(\"DATA/shape_predictor_68_face_landmarks.dat\")\n",
    "facerec = dlib.face_recognition_model_v1(\"DATA/dlib_face_recognition_resnet_model_v1.dat\")\n",
    "\n",
    "def get_embedding(img):\n",
    "    # img = cv2.imread(image_path)\n",
    "    dets = detector(img)\n",
    "    for d in dets:\n",
    "        shape = sp(img, d)\n",
    "        face_descriptor = facerec.compute_face_descriptor(img, shape)\n",
    "        return np.array(face_descriptor)\n"
   ]
  },
  {
   "cell_type": "code",
   "execution_count": 10,
   "id": "af3ad842-2e79-40ee-b7c5-51bb2f77bfb9",
   "metadata": {},
   "outputs": [
    {
     "name": "stdout",
     "output_type": "stream",
     "text": [
      "[-7.36630931e-02  4.17940542e-02  1.30674038e-02 -5.57904653e-02\n",
      " -4.12537083e-02  1.65948924e-02 -8.36700425e-02 -1.15432978e-01\n",
      "  1.86123088e-01 -1.98825464e-01  1.60170704e-01 -5.35428226e-02\n",
      " -1.88132375e-01 -9.14504528e-02 -5.86028695e-02  1.62383080e-01\n",
      " -1.66795537e-01 -2.05811948e-01 -1.34692872e-02 -9.63631198e-02\n",
      "  2.03775968e-02  8.77160346e-04 -8.68416578e-02  6.21448308e-02\n",
      " -1.25505298e-01 -3.44283164e-01 -7.61883184e-02 -1.40326649e-01\n",
      " -5.29427901e-02 -7.19912127e-02 -7.09275529e-03  7.35970363e-02\n",
      " -1.66113839e-01  1.93353891e-02 -9.78563912e-04  1.35793030e-01\n",
      " -8.70867725e-03 -2.65068375e-02  1.78280801e-01  1.63130462e-02\n",
      " -1.90949276e-01 -5.02224788e-02  7.19852298e-02  2.54530430e-01\n",
      "  1.83917671e-01 -1.46701168e-02 -5.61156794e-02 -2.29348354e-02\n",
      "  1.27228171e-01 -2.02510580e-01 -3.57026160e-02  1.58384427e-01\n",
      "  1.46065071e-01  6.81882128e-02  4.55441587e-02 -1.26410678e-01\n",
      "  1.85498446e-02  4.34280410e-02 -2.44675517e-01  8.22744519e-03\n",
      " -3.19737121e-02 -1.64058134e-01 -4.33488265e-02 -2.90158708e-02\n",
      "  2.23527730e-01  1.22234941e-01 -1.03054792e-01 -1.31180242e-01\n",
      "  2.05039203e-01 -2.14466140e-01 -3.00156660e-02  6.17912076e-02\n",
      " -1.00853570e-01 -1.97470888e-01 -2.78822511e-01 -3.42822783e-02\n",
      "  4.40673083e-01  1.66470870e-01 -1.50402993e-01  6.79963753e-02\n",
      " -5.03642671e-02 -9.45646986e-02  9.05095786e-02  1.07139580e-01\n",
      " -2.97953933e-03  2.32421197e-02 -5.43804504e-02  3.70037705e-02\n",
      "  1.90763637e-01 -3.44706792e-03 -5.62599115e-02  1.17942922e-01\n",
      " -6.65186048e-02  4.75157499e-02  2.12627798e-02 -1.37211988e-04\n",
      " -7.36364946e-02 -9.65481624e-03 -1.36491627e-01 -5.08076660e-02\n",
      " -7.25835934e-02 -5.24785630e-02  6.02653949e-03  6.20478541e-02\n",
      " -1.27645358e-01  1.18939616e-01  4.64502051e-02 -5.51977977e-02\n",
      " -5.76281101e-02  7.84750059e-02 -1.17163733e-01 -4.74245325e-02\n",
      "  1.82929471e-01 -2.51395881e-01  1.46282881e-01  1.45653307e-01\n",
      "  1.37684727e-02  1.89741910e-01  5.55727631e-02  6.99085146e-02\n",
      " -4.70077470e-02 -1.10472962e-01 -1.83641374e-01 -8.21861550e-02\n",
      " -2.86274683e-03  1.63138984e-03  1.17332190e-01  5.57522802e-03]\n"
     ]
    }
   ],
   "source": [
    "img = cv2.imread('DATA/face.jpg')\n",
    "print(get_embedding(img))"
   ]
  },
  {
   "cell_type": "code",
   "execution_count": null,
   "id": "e068012d-dee6-4c7a-bbc1-484d4521199c",
   "metadata": {},
   "outputs": [],
   "source": []
  },
  {
   "cell_type": "code",
   "execution_count": 14,
   "id": "78679c83-f185-457a-8937-acf9f616f8fb",
   "metadata": {},
   "outputs": [
    {
     "data": {
      "application/vnd.jupyter.widget-view+json": {
       "model_id": "7d6a9199849c41d48f54840526e3e8df",
       "version_major": 2,
       "version_minor": 0
      },
      "text/plain": [
       "  0%|          | 0.00/107M [00:00<?, ?B/s]"
      ]
     },
     "metadata": {},
     "output_type": "display_data"
    }
   ],
   "source": [
    "from facenet_pytorch import InceptionResnetV1\n",
    "import torch\n",
    "import cv2\n",
    "\n",
    "model = InceptionResnetV1(pretrained='vggface2').eval()"
   ]
  },
  {
   "cell_type": "code",
   "execution_count": 16,
   "id": "90901bdc-144d-4c01-a6e2-4c9550b93da4",
   "metadata": {},
   "outputs": [
    {
     "name": "stdout",
     "output_type": "stream",
     "text": [
      "[[-8.07518512e-03 -9.55442060e-03 -6.63411468e-02  1.08924627e-01\n",
      "   2.09685396e-02  3.96227986e-02 -6.09369315e-02  4.31690291e-02\n",
      "  -3.74803729e-02 -6.68334775e-03 -2.47455463e-02  3.86921922e-03\n",
      "  -4.12275456e-02 -6.90758303e-02  1.76517456e-03 -9.20263976e-02\n",
      "  -1.11582931e-02  5.54585196e-02  8.26731697e-02 -9.73972529e-02\n",
      "  -8.84587914e-02  4.26130034e-02  3.36215459e-02 -4.73685656e-03\n",
      "  -4.37738374e-03  8.24159160e-02  3.99779938e-02 -3.40916738e-02\n",
      "  -1.98452827e-02  5.81647307e-02 -4.21704091e-02 -2.21803207e-02\n",
      "  -2.72750878e-03 -3.65885794e-02 -3.92538682e-02  1.19001167e-02\n",
      "  -3.17284875e-02  7.80875981e-03 -7.12871924e-02  5.41323274e-02\n",
      "  -2.30335146e-02  3.16821225e-02  6.41491322e-04 -7.98616000e-03\n",
      "  -9.95182199e-04 -6.48711529e-03  8.97701178e-03  1.18229017e-01\n",
      "  -7.76723549e-02 -5.98030947e-02  5.02019236e-03  7.58125111e-02\n",
      "   6.15134835e-02  9.29155294e-03 -3.97544168e-02  4.72155884e-02\n",
      "   4.55582663e-02  7.28278905e-02 -2.10689735e-02 -6.26191050e-02\n",
      "  -3.79665866e-02  1.85234025e-02  8.77826009e-03 -8.41533989e-02\n",
      "   8.19922145e-03  8.74024536e-03 -1.35201942e-02 -1.85289010e-02\n",
      "  -4.82305661e-02  1.11104520e-02  7.60229528e-02  8.32822323e-02\n",
      "  -3.83545421e-02 -5.91181032e-02  2.46520707e-04 -5.17190620e-02\n",
      "  -5.07619008e-02 -5.91160320e-02  2.88616237e-03  2.45010965e-02\n",
      "   3.24565805e-02  4.70367335e-02  5.08606285e-02  4.84186448e-02\n",
      "  -4.96844538e-02  7.34865218e-02 -8.29569343e-03 -6.10754872e-03\n",
      "   2.24003270e-02 -2.35745516e-02  3.98121811e-02  1.27475010e-02\n",
      "   3.29012540e-03 -5.57171889e-02  9.45751667e-02  3.50786000e-02\n",
      "   1.93304587e-02  1.73923764e-02 -5.84279932e-02  5.49163297e-02\n",
      "   7.26610795e-03 -9.32232663e-02 -1.22065358e-02  3.25658396e-02\n",
      "  -3.87819149e-02  2.87735276e-02  2.88569778e-02  4.31792997e-02\n",
      "   2.58901622e-02 -2.72522252e-02  8.41064006e-02  1.65186506e-02\n",
      "  -6.82131872e-02 -1.99808218e-02 -1.17666963e-02  1.15536321e-02\n",
      "   3.99792045e-02  2.99555082e-02 -4.06659469e-02  6.32404834e-02\n",
      "  -6.92349151e-02 -5.01212217e-02  3.17861438e-02 -1.24073750e-03\n",
      "  -2.34973822e-02 -3.41876075e-02 -1.92368012e-02  5.98322004e-02\n",
      "  -2.58224420e-02 -5.68641610e-02  1.14691257e-02 -6.77776709e-02\n",
      "   8.98420289e-02 -6.51258277e-03 -8.15829113e-02  8.76267701e-02\n",
      "  -2.46726777e-02  4.95330282e-02  3.50271165e-02  8.82905722e-02\n",
      "  -6.99925870e-02  1.38326809e-02 -2.53836066e-03  2.63276044e-02\n",
      "   8.00209567e-02  7.43288314e-03  3.23271267e-02 -6.02455763e-03\n",
      "   7.71983480e-03  1.12132402e-02  4.09548767e-02  4.37728874e-02\n",
      "  -2.54976619e-02  1.57401487e-02  1.13671273e-02 -4.60243830e-03\n",
      "   9.66840833e-02 -7.63366884e-03  4.38717194e-02 -4.44668299e-03\n",
      "   4.61529419e-02  1.49711035e-02 -3.95875052e-02  3.67576554e-02\n",
      "  -3.11885476e-02  4.04771157e-02 -7.07083866e-02 -1.11095840e-02\n",
      "  -1.04163080e-01  4.47600037e-02  2.29051448e-02 -5.88643085e-03\n",
      "   2.68358085e-02  1.67097356e-02 -1.66613013e-02  5.85002117e-02\n",
      "   3.50220241e-02 -4.42243442e-02 -5.35649769e-02  1.31176086e-02\n",
      "  -3.49875651e-02 -1.70700885e-02  2.43412331e-03  8.59707147e-02\n",
      "   3.68240438e-02  4.15238179e-02  4.03222889e-02  8.38136673e-02\n",
      "   9.12973732e-02  1.75827686e-02  2.80814283e-02 -3.07130460e-02\n",
      "   3.65684479e-02 -4.47172746e-02  1.08464928e-02 -1.18969250e-02\n",
      "   2.16482859e-02 -4.11685463e-03 -6.85662180e-02  6.11607283e-02\n",
      "  -2.40487736e-02 -2.36081593e-02 -6.64651245e-02 -8.35857913e-03\n",
      "   7.26883812e-03  1.61416959e-02  4.41567935e-02 -1.08782025e-02\n",
      "  -1.25364112e-02 -6.87952200e-03 -8.93840380e-03 -2.60397606e-02\n",
      "   1.95000868e-03  2.64155120e-02 -3.55444960e-02  2.68430412e-02\n",
      "  -1.89304706e-02  5.24237752e-02  2.10553966e-02 -1.38880070e-02\n",
      "  -5.55761456e-02 -1.10428646e-01 -4.03200015e-02 -3.08716223e-02\n",
      "  -1.80958007e-02  2.82413196e-02 -5.49528636e-02 -2.31505241e-02\n",
      "   6.71240967e-03 -1.85011998e-02  4.70217094e-02  1.05201364e-01\n",
      "   1.71425659e-02 -1.27662895e-02 -4.55199964e-02 -3.51703130e-02\n",
      "   6.66201347e-03  3.53731327e-02 -1.27001209e-02 -8.02520141e-02\n",
      "  -8.09923857e-02 -6.99708909e-02 -5.10689430e-02 -1.86240394e-02\n",
      "   6.03009611e-02  5.50004616e-02  1.30457068e-02  1.58411339e-02\n",
      "   4.17285599e-02  4.39024828e-02  3.01395003e-02 -2.43363269e-02\n",
      "   2.68123951e-02  5.07008508e-02  4.80418317e-02  6.94703460e-02\n",
      "   3.53657231e-02  1.48768732e-02  6.42441809e-02  1.94790345e-02\n",
      "   2.24562529e-02  2.36175656e-02  5.08544073e-02 -1.06535451e-02\n",
      "  -4.86310832e-02 -7.34626409e-03  4.40824926e-02 -1.29725244e-02\n",
      "  -3.78168263e-02  5.13647236e-02 -5.72712757e-02  2.03956123e-02\n",
      "  -4.22145501e-02 -6.01548590e-02 -3.06744631e-02 -3.36870365e-02\n",
      "   2.28054747e-02  1.10915257e-02  6.24785013e-02  2.25357749e-02\n",
      "   7.03834966e-02 -2.03084070e-02 -3.43364961e-02 -6.37607872e-02\n",
      "  -8.49683881e-02  4.52056564e-02 -1.20840175e-02  1.95094850e-02\n",
      "   6.86825160e-03 -2.99955457e-02  6.54149354e-02 -1.00361273e-01\n",
      "   5.54305576e-02  3.69076058e-02 -7.63317645e-02 -7.44951367e-02\n",
      "   8.20230134e-03  2.41101794e-02  4.04903926e-02  3.11545208e-02\n",
      "  -2.79208180e-02 -3.29450741e-02  4.33159769e-02  5.98828774e-03\n",
      "   4.99128997e-02 -5.15263453e-02 -9.59219970e-03  3.79484370e-02\n",
      "  -5.93253337e-02  3.73104550e-02  1.25187950e-03  3.96891162e-02\n",
      "   2.85238819e-03  5.11995777e-02  2.48573143e-02  7.48881996e-02\n",
      "  -6.88574836e-03 -5.07013276e-02  2.69588805e-03  5.88014014e-02\n",
      "   1.27222344e-01  6.98841512e-02  2.03532279e-02  5.18075936e-02\n",
      "   2.02513696e-03 -1.01945419e-02  6.96289167e-02 -2.31375936e-02\n",
      "   6.48194999e-02  4.79066707e-02  4.07215841e-02  3.13161984e-02\n",
      "   4.14610580e-02  6.08912334e-02 -7.37540750e-03 -1.99287944e-03\n",
      "  -2.66045351e-02  7.35046342e-02  3.16360500e-03 -5.81353307e-02\n",
      "   1.29947150e-02  3.34772021e-02  3.98577079e-02  1.56907178e-02\n",
      "  -5.00865504e-02 -3.23699191e-02 -2.66002794e-03  4.66183722e-02\n",
      "   9.98707041e-02 -3.09101585e-02 -7.40383491e-02  4.42503504e-02\n",
      "  -9.42106843e-02 -6.14552721e-02 -3.45605463e-02 -1.56029835e-02\n",
      "   3.81372496e-02  3.93709308e-03  4.87941056e-02 -1.90653950e-02\n",
      "   3.82371247e-02  4.16069180e-02 -2.69982852e-02 -4.13205671e-05\n",
      "  -2.20086575e-02 -1.57094523e-02  3.78545336e-02 -3.97335514e-02\n",
      "   1.44259408e-02 -1.91193391e-02 -5.35889296e-03 -3.18733640e-02\n",
      "  -6.59378929e-05 -4.58803289e-02  1.10686012e-02  2.96286792e-02\n",
      "  -3.88263874e-02  3.79692316e-02  1.86220389e-02 -5.97149990e-02\n",
      "   4.02395905e-04 -4.75467816e-02 -2.76648551e-02  4.57649939e-02\n",
      "  -6.45528361e-03 -3.95617597e-02 -1.78551339e-02 -1.02121614e-01\n",
      "   4.78639044e-02 -9.45275126e-04 -4.88921301e-03 -2.62079597e-03\n",
      "   5.43664731e-02 -7.13658854e-02 -2.87455088e-03 -4.84437728e-03\n",
      "  -3.67889507e-03  2.11635176e-02  2.11471356e-02  4.49421704e-02\n",
      "  -4.66875471e-02  2.80218031e-02 -9.14784893e-02  6.26460016e-02\n",
      "   3.72762270e-02  2.44357791e-02 -3.55599187e-02  4.88965586e-03\n",
      "   3.03018955e-03  1.02132773e-02 -1.44701432e-02  1.44380312e-02\n",
      "   1.26905376e-02  5.10422746e-04  5.36445677e-02 -3.15090897e-03\n",
      "   4.21489030e-02  6.44478723e-02 -3.97772864e-02  1.27063477e-02\n",
      "   1.10478988e-02 -3.23317125e-02  2.35329606e-02  3.66063491e-02\n",
      "  -5.72490767e-02 -4.11014967e-02  4.05407660e-02  3.76594849e-02\n",
      "   3.94130349e-02 -4.67712991e-02  2.58161016e-02  2.38189902e-02\n",
      "   1.05658509e-02 -1.38555549e-03 -1.02018811e-01 -3.98825817e-02\n",
      "  -4.23528738e-02 -4.54495773e-02 -2.86917370e-02  3.30153690e-03\n",
      "  -6.14747731e-03  2.24969219e-02 -5.51382788e-02  6.81119636e-02\n",
      "  -1.64792631e-02  3.02142948e-02 -8.49062875e-02  2.12690048e-02\n",
      "  -7.38355294e-02 -9.19583216e-02 -1.75485872e-02  1.24071650e-01\n",
      "  -7.31040863e-03 -6.18563928e-02  4.14761081e-02 -2.92381700e-02\n",
      "   2.75497651e-03  3.33347842e-02  8.17848593e-02 -6.91393623e-04\n",
      "  -5.44599025e-03  5.89498132e-02 -7.02610761e-02  3.59471813e-02\n",
      "   7.14687109e-02  4.75598825e-03 -1.96133722e-02  5.52768819e-02\n",
      "   3.93418781e-02  1.97578333e-02  6.85984734e-03 -1.66427344e-02\n",
      "   3.29585522e-02 -1.49896620e-02 -3.53794843e-02 -3.35564800e-02\n",
      "   3.68323512e-02 -1.64917707e-02  1.14724878e-03  8.07875693e-02\n",
      "  -4.12140228e-02 -1.79073494e-02  7.83971399e-02 -5.98994223e-03\n",
      "   1.73982140e-02  5.11417463e-02 -8.97193551e-02  4.18627597e-02\n",
      "  -7.41069345e-03 -2.59391051e-02  1.46540990e-02  2.41632815e-02\n",
      "  -5.52078746e-02 -3.16858999e-02  1.07145905e-02 -2.50629317e-02\n",
      "   1.58100948e-02  1.55796194e-02  1.57687329e-02  1.10400058e-02\n",
      "  -1.82159040e-02  3.68968933e-03  1.64078362e-02  5.23039289e-02\n",
      "  -9.25923232e-03  3.54671106e-02 -2.17469186e-02 -1.83194142e-03\n",
      "  -2.49376055e-02 -3.71931307e-02  2.42192261e-02 -6.61351830e-02]]\n"
     ]
    }
   ],
   "source": [
    "def get_embedding(img):\n",
    "    img = cv2.resize(img, (160, 160))\n",
    "    img = torch.tensor(img).float().permute(2, 0, 1).unsqueeze(0) / 255.0\n",
    "    return model(img).detach().numpy()\n",
    "\n",
    "img = cv2.imread('DATA/face.jpg')\n",
    "print(get_embedding(img))"
   ]
  },
  {
   "cell_type": "code",
   "execution_count": null,
   "id": "d18bc1d4-1045-46bf-bfbc-3fcf06e73507",
   "metadata": {},
   "outputs": [],
   "source": []
  }
 ],
 "metadata": {
  "kernelspec": {
   "display_name": "Python [conda env:base] *",
   "language": "python",
   "name": "conda-base-py"
  },
  "language_info": {
   "codemirror_mode": {
    "name": "ipython",
    "version": 3
   },
   "file_extension": ".py",
   "mimetype": "text/x-python",
   "name": "python",
   "nbconvert_exporter": "python",
   "pygments_lexer": "ipython3",
   "version": "3.12.7"
  }
 },
 "nbformat": 4,
 "nbformat_minor": 5
}
